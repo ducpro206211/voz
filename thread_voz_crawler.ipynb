{
 "cells": [
  {
   "cell_type": "code",
   "execution_count": null,
   "metadata": {},
   "outputs": [],
   "source": [
    "import html2text\n",
    "from bs4 import BeautifulSoup\n",
    "#from lxml import html\n",
    "import requests\n"
   ]
  },
  {
   "cell_type": "code",
   "execution_count": null,
   "metadata": {},
   "outputs": [],
   "source": [
    "## optimaze this code below\n",
    "def extract_text_from_url(url):\n",
    "    headers = {'User-Agent': 'Mozilla/5.0 (Windows NT 10.0; Win64; x64) AppleWebKit/537.36 (KHTML, like Gecko) Chrome/58.0.3029.110 Safari/537.3'}\n",
    "    response = requests.get(url, headers=headers)\n",
    "    \n",
    "    if response.status_code == 200:\n",
    "        soup = BeautifulSoup(response.content, 'html.parser')\n",
    "        \n",
    "        voz_list_url = soup.find_all('div', class_=[\"structItem\", \"structItem--thread\", \"is-unread\", \"js-inlineModContainer\"])\n",
    "        link_url_post = [\"https://voz.vn//\" + div.find('a').get('href') for div in soup.find_all('div', class_='structItem-title') if div.find('a')]\n",
    "        time_and_author = [reply.get_text() for block in soup.find_all('ul', class_=['structItem-parts']) for reply in block.find_all('a')]\n",
    "        list_link = [f\"{reply.find('dt').get_text(strip=True)}: {reply.find('dd').get_text(strip=True)}\" for div in soup.find_all('div', class_=['structItem-cell', 'structItem-cell--meta']) for reply in div.find_all('dl')]\n",
    "        \n",
    "        return link_url_post, list_link, time_and_author\n",
    "    else:\n",
    "        print(\"Không thể truy cập trang.\")\n",
    "\n",
    "# Thay đổi URL dưới đây thành trang web bạn muốn trích xuất văn bản\n",
    "url = 'https://voz.vn/f/chuyen-tro-linh-tinh.17/page-2'\n",
    "url_link, list_link, time_and_author = extract_text_from_url(url)\n",
    "print(url_link)\n",
    "\n",
    "\n",
    "# Thay đổi URL dưới đây thành trang web bạn muốn trích xuất văn bản\n",
    "url = 'https://voz.vn/f/chuyen-tro-linh-tinh.17/page-2'\n",
    "url_link,list_link,time_and_author = extract_text_from_url(url)\n",
    "print(url_link)"
   ]
  },
  {
   "cell_type": "code",
   "execution_count": 9,
   "metadata": {},
   "outputs": [
    {
     "data": {
      "text/plain": [
       "40"
      ]
     },
     "execution_count": 9,
     "metadata": {},
     "output_type": "execute_result"
    }
   ],
   "source": [
    "len(time_and_author)"
   ]
  },
  {
   "cell_type": "code",
   "execution_count": null,
   "metadata": {},
   "outputs": [],
   "source": [
    "print()"
   ]
  }
 ],
 "metadata": {
  "kernelspec": {
   "display_name": "Python 3",
   "language": "python",
   "name": "python3"
  },
  "language_info": {
   "codemirror_mode": {
    "name": "ipython",
    "version": 3
   },
   "file_extension": ".py",
   "mimetype": "text/x-python",
   "name": "python",
   "nbconvert_exporter": "python",
   "pygments_lexer": "ipython3",
   "version": "3.10.11"
  }
 },
 "nbformat": 4,
 "nbformat_minor": 2
}
